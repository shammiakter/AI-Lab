{
 "cells": [
  {
   "cell_type": "code",
   "execution_count": 3,
   "metadata": {
    "collapsed": true
   },
   "outputs": [],
   "source": [
    "import numpy as np\n",
    "from mpl_toolkits.mplot3d import Axes3D\n",
    "import matplotlib.pyplot as plt\n",
    "import random\n"
   ]
  },
  {
   "cell_type": "code",
   "execution_count": 43,
   "metadata": {
    "collapsed": true
   },
   "outputs": [],
   "source": [
    "x = np.array([0, 0,1, 1])\n",
    "x2 = np.array([0, 1, 0, 1])\n",
    "y = [0, 0, 0, 1]\n",
    "t1 = 0.3\n",
    "t2 = -0.1\n",
    "n = 0.1 # Learning Rate\n",
    "th = 0.2 # Threshold\n"
   ]
  },
  {
   "cell_type": "code",
   "execution_count": 44,
   "metadata": {
    "collapsed": false
   },
   "outputs": [
    {
     "name": "stdout",
     "output_type": "stream",
     "text": [
      "1  \n",
      "Input: 0 0 Output: 0 Old Weight: 0.3 -0.1 Output:  0 Cost: 0 New Weight: 0.3 -0.1\n",
      "Input: 0 1 Output: 0 Old Weight: 0.3 -0.1 Output:  0 Cost: 0 New Weight: 0.3 -0.1\n",
      "Input: 1 0 Output: 0 Old Weight: 0.3 -0.1 Output:  1 Cost: -1 New Weight: 0.2 -0.1\n",
      "Input: 1 1 Output: 1 Old Weight: 0.2 -0.1 Output:  0 Cost: 1 New Weight: 0.3 0.0\n",
      "2  \n",
      "Input: 0 0 Output: 0 Old Weight: 0.3 0.0 Output:  0 Cost: 0 New Weight: 0.3 0.0\n",
      "Input: 0 1 Output: 0 Old Weight: 0.3 0.0 Output:  0 Cost: 0 New Weight: 0.3 0.0\n",
      "Input: 1 0 Output: 0 Old Weight: 0.3 0.0 Output:  1 Cost: -1 New Weight: 0.2 0.0\n",
      "Input: 1 1 Output: 1 Old Weight: 0.2 0.0 Output:  1 Cost: 0 New Weight: 0.2 0.0\n",
      "3  \n",
      "Input: 0 0 Output: 0 Old Weight: 0.2 0.0 Output:  0 Cost: 0 New Weight: 0.2 0.0\n",
      "Input: 0 1 Output: 0 Old Weight: 0.2 0.0 Output:  0 Cost: 0 New Weight: 0.2 0.0\n",
      "Input: 1 0 Output: 0 Old Weight: 0.2 0.0 Output:  1 Cost: -1 New Weight: 0.1 0.0\n",
      "Input: 1 1 Output: 1 Old Weight: 0.1 0.0 Output:  0 Cost: 1 New Weight: 0.2 0.1\n",
      "4  \n",
      "Input: 0 0 Output: 0 Old Weight: 0.2 0.1 Output:  0 Cost: 0 New Weight: 0.2 0.1\n",
      "Input: 0 1 Output: 0 Old Weight: 0.2 0.1 Output:  0 Cost: 0 New Weight: 0.2 0.1\n",
      "Input: 1 0 Output: 0 Old Weight: 0.2 0.1 Output:  1 Cost: -1 New Weight: 0.1 0.1\n",
      "Input: 1 1 Output: 1 Old Weight: 0.1 0.1 Output:  1 Cost: 0 New Weight: 0.1 0.1\n",
      "5  \n",
      "Input: 0 0 Output: 0 Old Weight: 0.1 0.1 Output:  0 Cost: 0 New Weight: 0.1 0.1\n",
      "Input: 0 1 Output: 0 Old Weight: 0.1 0.1 Output:  0 Cost: 0 New Weight: 0.1 0.1\n",
      "Input: 1 0 Output: 0 Old Weight: 0.1 0.1 Output:  0 Cost: 0 New Weight: 0.1 0.1\n",
      "Input: 1 1 Output: 1 Old Weight: 0.1 0.1 Output:  1 Cost: 0 New Weight: 0.1 0.1\n"
     ]
    }
   ],
   "source": [
    "for i in range(5):\n",
    "    print(i+1,' ')\n",
    "    error = []\n",
    "    temp = []\n",
    "    for j in range(len(x1)):\n",
    "        h= np.dot(x[j],t1)+ np.dot(x2[j],t2) # Calculating the prediction value\n",
    "                                        \n",
    "        if h < th:\n",
    "            \n",
    "            h = 0\n",
    "        else:\n",
    "            h = 1\n",
    "        cost=y[j]-h # Cost Function\n",
    "        temp.append(h)\n",
    "        error.append(cost)\n",
    "        if temp == y:\n",
    "            \n",
    "            print( 'Input:', x1[j], x2[j],'Output:', y[j],\n",
    "                  'Old Weight:', t1_temp, t2_temp,'Output: ',h,\n",
    "                  'Cost:', cost, 'New Weight:', t1, t2)\n",
    "            break\n",
    "        else:\n",
    "            t1_temp = t1\n",
    "            # Updating the weights w1 and w2\n",
    "            \n",
    "            t1 = t1 + n * x1[j] * cost\n",
    "            t1 = float(\"{0:.2f}\".format(t1))\n",
    "                    \n",
    "            t2_temp = t2\n",
    "            t2 = t2 + n * x2[j] * cost\n",
    "            t2 = float(\"{0:.2f}\".format(t2))\n",
    "        print( 'Input:', x1[j], x2[j],'Output:', y[j], \n",
    "              'Old Weight:', t1_temp, t2_temp,'Output: ', h,\n",
    "              'Cost:', cost, 'New Weight:', t1, t2)"
   ]
  },
  {
   "cell_type": "code",
   "execution_count": null,
   "metadata": {
    "collapsed": true
   },
   "outputs": [],
   "source": [
    "fig = plt.figure()\n",
    "ax = fig.add_subplot(111, projection='3d')\n",
    "t1 = t2 = \n",
    "X, Y = np.meshgrid(x, y)\n",
    "zs = np.array([fun(x,y) for x,y in zip(np.ravel(X), np.ravel(Y))])\n",
    "Z = zs.reshape(X.shape)\n",
    "\n",
    "ax.plot_surface(X, Y, Z)\n",
    "\n",
    "ax.set_xlabel('X Label')\n",
    "ax.set_ylabel('Y Label')\n",
    "ax.set_zlabel('Z Label')\n",
    "\n",
    "plt.show()"
   ]
  }
 ],
 "metadata": {
  "kernelspec": {
   "display_name": "Python 3",
   "language": "python",
   "name": "python3"
  },
  "language_info": {
   "codemirror_mode": {
    "name": "ipython",
    "version": 3
   },
   "file_extension": ".py",
   "mimetype": "text/x-python",
   "name": "python",
   "nbconvert_exporter": "python",
   "pygments_lexer": "ipython3",
   "version": "3.6.0"
  }
 },
 "nbformat": 4,
 "nbformat_minor": 2
}
