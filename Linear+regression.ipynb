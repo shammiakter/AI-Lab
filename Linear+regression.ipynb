{
 "cells": [
  {
   "cell_type": "code",
   "execution_count": 1,
   "metadata": {
    "collapsed": true
   },
   "outputs": [],
   "source": [
    "import numpy as np\n",
    "import matplotlib.pyplot as plt"
   ]
  },
  {
   "cell_type": "code",
   "execution_count": 19,
   "metadata": {},
   "outputs": [
    {
     "name": "stdout",
     "output_type": "stream",
     "text": [
      "[ 2100  6200 13800 19530 30150]\n",
      "14356.0\n",
      "11.6\n",
      "1069.0\n",
      "12400.4\n",
      "134.56\n",
      "152.8\n"
     ]
    }
   ],
   "source": [
    "x=np.array([6,8,12,14,18])\n",
    "y=np.array([350,775,1150,1395,1675])\n",
    "\n",
    "xy=x*y\n",
    "print(xy)\n",
    "\n",
    "xy_mean=xy.mean()\n",
    "print(xy_mean) #xy_mean\n",
    "\n",
    "x_mean=x.mean() #x_mean\n",
    "y_mean=y.mean() #y_mean\n",
    "print(x_mean)\n",
    "print(y_mean)\n",
    "\n",
    "xy_mean1=x_mean*y_mean\n",
    "print(xy_mean1)\n",
    "\n",
    "x_meansqr=x_mean**2   #(xmean)*2\n",
    "print(x_meansqr)\n",
    "\n",
    "x_sqr=x**2\n",
    "x_sqrmean=x_sqr.mean()    #(x*2)mean\n",
    "print(x_sqrmean)"
   ]
  },
  {
   "cell_type": "code",
   "execution_count": 21,
   "metadata": {},
   "outputs": [
    {
     "name": "stdout",
     "output_type": "stream",
     "text": [
      "107.214912281\n"
     ]
    }
   ],
   "source": [
    "m=((xy_mean1-xy_mean)/(x_meansqr-x_sqrmean))\n",
    "print(m)"
   ]
  },
  {
   "cell_type": "code",
   "execution_count": 23,
   "metadata": {},
   "outputs": [
    {
     "name": "stdout",
     "output_type": "stream",
     "text": [
      "-174.692982456\n"
     ]
    }
   ],
   "source": [
    "c=(y_mean-(m*x_mean))\n",
    "print(c)"
   ]
  },
  {
   "cell_type": "code",
   "execution_count": 29,
   "metadata": {},
   "outputs": [
    {
     "data": {
      "image/png": "[encoded data removed]",
      "text/plain": [
       "<matplotlib.figure.Figure at 0xa10d092e80>"
      ]
     },
     "metadata": {},
     "output_type": "display_data"
    }
   ],
   "source": [
    "yy=[]\n",
    "for i in range(5):\n",
    "    yy.append(m*x[i]+c)\n",
    "    \n",
    "y_y=np.array(yy)\n",
    "\n",
    "plt.plot(x,y_y)\n",
    "plt.scatter(x,y)\n",
    "plt.show()"
   ]
  },
  {
   "cell_type": "code",
   "execution_count": null,
   "metadata": {
    "collapsed": true
   },
   "outputs": [],
   "source": []
  }
 ],
 "metadata": {
  "kernelspec": {
   "display_name": "Python 3",
   "language": "python",
   "name": "python3"
  },
  "language_info": {
   "codemirror_mode": {
    "name": "ipython",
    "version": 3
   },
   "file_extension": ".py",
   "mimetype": "text/x-python",
   "name": "python",
   "nbconvert_exporter": "python",
   "pygments_lexer": "ipython3",
   "version": "3.6.3"
  }
 },
 "nbformat": 4,
 "nbformat_minor": 2
}
